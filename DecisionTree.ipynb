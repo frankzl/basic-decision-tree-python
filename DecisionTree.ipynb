{
 "cells": [
  {
   "cell_type": "code",
   "execution_count": null,
   "metadata": {},
   "outputs": [],
   "source": [
    "%load_ext autoreload\n",
    "%autoreload 2"
   ]
  },
  {
   "cell_type": "markdown",
   "metadata": {},
   "source": [
    "## Load data"
   ]
  },
  {
   "cell_type": "code",
   "execution_count": 133,
   "metadata": {},
   "outputs": [],
   "source": [
    "import pandas\n",
    "from decision_tree import *\n",
    "\n",
    "df = pandas.read_csv('01_homework_dataset.csv', delimiter=',')\n",
    "\n",
    "X = df.iloc[:,:3].values\n",
    "y = df.iloc[:,3].values\n",
    "\n",
    "d = DecisionTree(2, X, y, df.columns.values)\n",
    "d.auto_split()"
   ]
  },
  {
   "cell_type": "markdown",
   "metadata": {},
   "source": [
    "## Problem 1:\n",
    "Each line represents one node.\n",
    "Format of each line:\n",
    "0. condition from parent node was matched?\n",
    "1. splitting criterion for the next level\n",
    "2. class distribution\n",
    "3. gini index for current node\n",
    "\n",
    "The gini index was calculated as follows:\n",
    "$i_G(t) = 1 - \\sum_{c_i \\in C} \\pi_{c_i}^2$\n",
    "\n",
    "The code for the implemented decision tree has been attached"
   ]
  },
  {
   "cell_type": "code",
   "execution_count": 134,
   "metadata": {},
   "outputs": [
    {
     "name": "stdout",
     "output_type": "stream",
     "text": [
      "\u001b[1mIF x1 <= 4.1\u001b[0m | \tdistr: {0: 0.33, 1: 0.4, 2: 0.27} gini: 0.66\n",
      "\n",
      "├── \u001b[1m\u001b[91mFalse\u001b[0m | \u001b[1mIF x1 <= 6.9\u001b[0m | \tdistr: {0: 0.56, 2: 0.44}   gini: 0.49\n",
      "\n",
      "│   ├── \u001b[1m\u001b[91mFalse\u001b[0m | distr: {0: 1.0}             gini: 0.0\n",
      "\n",
      "│   └── \u001b[1m\u001b[91mTrue\u001b[0m | distr: {0: 0.33, 2: 0.67}   gini: 0.44\n",
      "\n",
      "└── \u001b[1m\u001b[91mTrue\u001b[0m | distr: {1: 1.0}             gini: 0.0\n",
      "\n",
      "\n"
     ]
    }
   ],
   "source": [
    "d.draw()"
   ]
  },
  {
   "cell_type": "markdown",
   "metadata": {},
   "source": [
    "## Problem 2\n",
    "Predict: $x_a=(4.1, -0.1,2.2)^T$ and $x_b=(6.1, 0.4,1.3)^T$\n",
    "\n",
    "Following the tree we see that $x_{a,1} \\leq 4.1$ and our distribution in the respective node is pure since it only contains data with the label 1.\n",
    "\n",
    "`True | distr: {1: 1.0}             gini: 0.0`\n",
    "\n",
    "$\\hat{y}_a = 1$ and since the node is pure: $p(c=\\hat{y}_a | x_a, T) = 1$\n",
    "\n",
    "\n",
    "Path for $x_b$:\n",
    "\n",
    "$x_{b,1} \\leq 4.1 ? => False$\n",
    "\n",
    "$x_{b,1} \\leq 6.9 ? => True$\n",
    "\n",
    "`True | distr: {0: 0.33, 2: 0.67}   gini: 0.44`\n",
    "\n",
    "$\\hat{y}_b = 2$ and $p(c=\\hat{y}_b | x_b, T) \\approx 0.67$"
   ]
  },
  {
   "cell_type": "code",
   "execution_count": 135,
   "metadata": {},
   "outputs": [
    {
     "data": {
      "text/plain": [
       "1"
      ]
     },
     "execution_count": 135,
     "metadata": {},
     "output_type": "execute_result"
    }
   ],
   "source": [
    "d.predict([4.1,-0.1,2.2])"
   ]
  },
  {
   "cell_type": "code",
   "execution_count": 136,
   "metadata": {},
   "outputs": [
    {
     "data": {
      "text/plain": [
       "2"
      ]
     },
     "execution_count": 136,
     "metadata": {},
     "output_type": "execute_result"
    }
   ],
   "source": [
    "d.predict([6.1,0.4,1.3])"
   ]
  }
 ],
 "metadata": {
  "kernelspec": {
   "display_name": "Python 3",
   "language": "python",
   "name": "python3"
  },
  "language_info": {
   "codemirror_mode": {
    "name": "ipython",
    "version": 3
   },
   "file_extension": ".py",
   "mimetype": "text/x-python",
   "name": "python",
   "nbconvert_exporter": "python",
   "pygments_lexer": "ipython3",
   "version": "3.5.2"
  }
 },
 "nbformat": 4,
 "nbformat_minor": 2
}
